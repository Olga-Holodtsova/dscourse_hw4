{
 "cells": [
  {
   "cell_type": "code",
   "execution_count": null,
   "id": "9e366f3c-cf15-4507-ada9-46d558ad755f",
   "metadata": {},
   "outputs": [],
   "source": [
    "# 2. Методы Класса: Добавьте метод start_engine в класс Car, который выводит сообщение \"Двигатель запущен!\"."
   ]
  },
  {
   "cell_type": "code",
   "execution_count": 6,
   "id": "63d7781c-119f-4fef-9e6d-21fc8f8182f3",
   "metadata": {},
   "outputs": [
    {
     "name": "stdout",
     "output_type": "stream",
     "text": [
      "Двигатель запущен!\n"
     ]
    }
   ],
   "source": [
    "class Car:\n",
    "    def start_engine(self):\n",
    "        print(\"Двигатель запущен!\")\n",
    "\n",
    "my_car = Car()\n",
    "my_car.start_engine()"
   ]
  },
  {
   "cell_type": "code",
   "execution_count": null,
   "id": "b56303ed-1e31-4eb7-9994-34800665ba0f",
   "metadata": {},
   "outputs": [],
   "source": [
    "# 7. Переопределение Метода: Переопределите метод start_engine в классе ElectricCar, чтобы он выводил \"Тихий запуск двигателя!\"."
   ]
  },
  {
   "cell_type": "code",
   "execution_count": 7,
   "id": "8a14e205-9298-4f74-9701-33543f00d9fc",
   "metadata": {},
   "outputs": [
    {
     "name": "stdout",
     "output_type": "stream",
     "text": [
      "Тихий запуск двигателя!\n"
     ]
    }
   ],
   "source": [
    "class ElectricCar(Car):\n",
    "    def start_engine(self):\n",
    "        print(\"Тихий запуск двигателя!\")\n",
    "\n",
    "my_car = ElectricCar()\n",
    "my_car.start_engine()     "
   ]
  },
  {
   "cell_type": "code",
   "execution_count": 5,
   "id": "0bd26ca8-54b8-4f60-99a0-0809ec83e781",
   "metadata": {},
   "outputs": [],
   "source": [
    "# 12. Исключения в Методах: Модифицируйте сеттер так, чтобы он выбрасывал исключение, если тип двигателя не соответствует заданным критериям."
   ]
  },
  {
   "cell_type": "code",
   "execution_count": 44,
   "id": "718de830-bf07-45de-ba01-26f013702b1d",
   "metadata": {},
   "outputs": [],
   "source": [
    "class Car:\n",
    "    def __init__(self):\n",
    "        self.__engine_type = None\n",
    "\n",
    "    @property\n",
    "    def engine_type(self):\n",
    "        return self.__engine_type\n",
    "\n",
    "    @engine_type.setter\n",
    "    def engine_type(self, value):\n",
    "        if value not in [\"бензин\", \"дизель\", \"электро\", \"газ\", \"гибрид\"]:\n",
    "            raise ValueError(\"Invalid engine type\")\n",
    "        self.__engine_type = value\n",
    "\n",
    "my_car = Car()\n",
    "my_car.engine_type = \"бензин\"\n",
    "  "
   ]
  },
  {
   "cell_type": "code",
   "execution_count": 45,
   "id": "e6021660-4031-4dd7-ad01-0d9c7f8407d4",
   "metadata": {},
   "outputs": [
    {
     "ename": "ValueError",
     "evalue": "Invalid engine type",
     "output_type": "error",
     "traceback": [
      "\u001b[1;31m---------------------------------------------------------------------------\u001b[0m",
      "\u001b[1;31mValueError\u001b[0m                                Traceback (most recent call last)",
      "Cell \u001b[1;32mIn[45], line 16\u001b[0m\n\u001b[0;32m     13\u001b[0m         \u001b[38;5;28mself\u001b[39m\u001b[38;5;241m.\u001b[39m__engine_type \u001b[38;5;241m=\u001b[39m value\n\u001b[0;32m     15\u001b[0m my_car \u001b[38;5;241m=\u001b[39m Car()\n\u001b[1;32m---> 16\u001b[0m my_car\u001b[38;5;241m.\u001b[39mengine_type \u001b[38;5;241m=\u001b[39m \u001b[38;5;124m\"\u001b[39m\u001b[38;5;124mпаровой двигатель\u001b[39m\u001b[38;5;124m\"\u001b[39m\n",
      "Cell \u001b[1;32mIn[45], line 12\u001b[0m, in \u001b[0;36mCar.engine_type\u001b[1;34m(self, value)\u001b[0m\n\u001b[0;32m      9\u001b[0m \u001b[38;5;129m@engine_type\u001b[39m\u001b[38;5;241m.\u001b[39msetter\n\u001b[0;32m     10\u001b[0m \u001b[38;5;28;01mdef\u001b[39;00m \u001b[38;5;21mengine_type\u001b[39m(\u001b[38;5;28mself\u001b[39m, value):\n\u001b[0;32m     11\u001b[0m     \u001b[38;5;28;01mif\u001b[39;00m value \u001b[38;5;129;01mnot\u001b[39;00m \u001b[38;5;129;01min\u001b[39;00m [\u001b[38;5;124m\"\u001b[39m\u001b[38;5;124mбензин\u001b[39m\u001b[38;5;124m\"\u001b[39m, \u001b[38;5;124m\"\u001b[39m\u001b[38;5;124mдизель\u001b[39m\u001b[38;5;124m\"\u001b[39m, \u001b[38;5;124m\"\u001b[39m\u001b[38;5;124mэлектро\u001b[39m\u001b[38;5;124m\"\u001b[39m, \u001b[38;5;124m\"\u001b[39m\u001b[38;5;124mгаз\u001b[39m\u001b[38;5;124m\"\u001b[39m, \u001b[38;5;124m\"\u001b[39m\u001b[38;5;124mгибрид\u001b[39m\u001b[38;5;124m\"\u001b[39m]:\n\u001b[1;32m---> 12\u001b[0m         \u001b[38;5;28;01mraise\u001b[39;00m \u001b[38;5;167;01mValueError\u001b[39;00m(\u001b[38;5;124m\"\u001b[39m\u001b[38;5;124mInvalid engine type\u001b[39m\u001b[38;5;124m\"\u001b[39m)\n\u001b[0;32m     13\u001b[0m     \u001b[38;5;28mself\u001b[39m\u001b[38;5;241m.\u001b[39m__engine_type \u001b[38;5;241m=\u001b[39m value\n",
      "\u001b[1;31mValueError\u001b[0m: Invalid engine type"
     ]
    }
   ],
   "source": [
    "class Car:\n",
    "    def __init__(self):\n",
    "        self.__engine_type = None\n",
    "\n",
    "    @property\n",
    "    def engine_type(self):\n",
    "        return self.__engine_type\n",
    "\n",
    "    @engine_type.setter\n",
    "    def engine_type(self, value):\n",
    "        if value not in [\"бензин\", \"дизель\", \"электро\", \"газ\", \"гибрид\"]:\n",
    "            raise ValueError(\"Invalid engine type\")\n",
    "        self.__engine_type = value\n",
    "\n",
    "my_car = Car()\n",
    "my_car.engine_type = \"паровой двигатель\"\n",
    "  "
   ]
  }
 ],
 "metadata": {
  "kernelspec": {
   "display_name": "Python 3 (ipykernel)",
   "language": "python",
   "name": "python3"
  },
  "language_info": {
   "codemirror_mode": {
    "name": "ipython",
    "version": 3
   },
   "file_extension": ".py",
   "mimetype": "text/x-python",
   "name": "python",
   "nbconvert_exporter": "python",
   "pygments_lexer": "ipython3",
   "version": "3.11.5"
  }
 },
 "nbformat": 4,
 "nbformat_minor": 5
}
