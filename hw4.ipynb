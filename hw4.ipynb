{
 "cells": [
  {
   "cell_type": "code",
   "execution_count": null,
   "id": "c4e41ea3-b589-46e8-b66b-e727c0528fd7",
   "metadata": {},
   "outputs": [],
   "source": [
    "# 2. Методы Класса: Добавьте метод start_engine в класс Car, который выводит сообщение \"Двигатель запущен!\"."
   ]
  },
  {
   "cell_type": "code",
   "execution_count": 1,
   "id": "867ca8be-c99b-41c6-a724-f0f90a69331d",
   "metadata": {},
   "outputs": [
    {
     "name": "stdout",
     "output_type": "stream",
     "text": [
      "Двигатель запущен!\n"
     ]
    }
   ],
   "source": [
    "class Car:\n",
    "    def start_engine(self):\n",
    "        print(\"Двигатель запущен!\")\n",
    "\n",
    "my_car = Car()\n",
    "my_car.start_engine()"
   ]
  },
  {
   "cell_type": "code",
   "execution_count": null,
   "id": "17138393-9565-4ccf-9706-e41990b01772",
   "metadata": {},
   "outputs": [],
   "source": [
    "# 7. Переопределение Метода: Переопределите метод start_engine в классе ElectricCar, чтобы он выводил \"Тихий запуск двигателя!\"."
   ]
  },
  {
   "cell_type": "code",
   "execution_count": 2,
   "id": "9bc1f9dc-379f-451a-a7db-e414bef139fd",
   "metadata": {},
   "outputs": [
    {
     "name": "stdout",
     "output_type": "stream",
     "text": [
      "Тихий запуск двигателя!\n"
     ]
    }
   ],
   "source": [
    "class Car:\n",
    "    def start_engine(self):\n",
    "        self.model = \"Audi\"\n",
    "        self.engine = \"\t3.0 45 TDI quattro tiptronic Advance\"\n",
    "        \n",
    "class ElectricCar(Car):\n",
    "    def start_engine(self):\n",
    "        print(\"Тихий запуск двигателя!\")\n",
    "\n",
    "my_car = ElectricCar()\n",
    "my_car.start_engine()     "
   ]
  },
  {
   "cell_type": "code",
   "execution_count": null,
   "id": "3d237ba2-2af2-4f7d-8cbd-416754a45e8d",
   "metadata": {},
   "outputs": [],
   "source": [
    "# 12. Исключения в Методах: Модифицируйте сеттер так, чтобы он выбрасывал исключение, если тип двигателя не соответствует заданным критериям."
   ]
  },
  {
   "cell_type": "code",
   "execution_count": 4,
   "id": "e08c717b-5720-4652-b76e-1b5694c39acd",
   "metadata": {},
   "outputs": [
    {
     "name": "stdout",
     "output_type": "stream",
     "text": [
      "Invalid engine type\n"
     ]
    }
   ],
   "source": [
    "  class Car:\n",
    "    def __init__(self):\n",
    "        self.__engine_type = None\n",
    "\n",
    "    @property\n",
    "    def engine_type(self):\n",
    "        return self.__engine_type\n",
    "\n",
    "    @engine_type.setter\n",
    "    def engine_type(self, value):\n",
    "        if value not in [\"бензин\", \"дизель\", \"электро\", \"газ\", \"гибрид\"]:\n",
    "            raise ValueError(\"Invalid engine type\")\n",
    "        self.__engine_type = value\n",
    "\n",
    "my_car = Car()\n",
    "try:\n",
    "    my_car.engine_type = \"паровой двигатель\"\n",
    "except:\n",
    "    print(\"Invalid engine type\")  "
   ]
  }
 ],
 "metadata": {
  "kernelspec": {
   "display_name": "Python 3 (ipykernel)",
   "language": "python",
   "name": "python3"
  },
  "language_info": {
   "codemirror_mode": {
    "name": "ipython",
    "version": 3
   },
   "file_extension": ".py",
   "mimetype": "text/x-python",
   "name": "python",
   "nbconvert_exporter": "python",
   "pygments_lexer": "ipython3",
   "version": "3.11.5"
  }
 },
 "nbformat": 4,
 "nbformat_minor": 5
}
